{
 "cells": [
  {
   "cell_type": "code",
   "execution_count": 1,
   "metadata": {},
   "outputs": [],
   "source": [
    "import numpy as np\n",
    "from scipy import optimize\n",
    "import json\n",
    "import pandas as pd\n",
    "from types import SimpleNamespace\n",
    "from math import sin, cos"
   ]
  },
  {
   "cell_type": "code",
   "execution_count": 1,
   "metadata": {},
   "outputs": [
    {
     "name": "stderr",
     "output_type": "stream",
     "text": [
      "/home/arcticsnow/miniconda3/envs/dataAna/lib/python3.8/site-packages/pandas/core/indexing.py:1636: SettingWithCopyWarning: \n",
      "A value is trying to be set on a copy of a slice from a DataFrame\n",
      "\n",
      "See the caveats in the documentation: https://pandas.pydata.org/pandas-docs/stable/user_guide/indexing.html#returning-a-view-versus-a-copy\n",
      "  self._setitem_single_block(indexer, value, name)\n"
     ]
    },
    {
     "name": "stdout",
     "output_type": "stream",
     "text": [
      "`ftol` termination condition is satisfied.\n",
      "Function evaluations 23, initial cost 1.1768e+02, final cost 2.3118e+01, first-order optimality 4.15e-01.\n",
      "RMSE initial =  140.42737032432868\n",
      "RMSE lstsq =  5.091417970640866\n",
      "                       name  residual_x_ini  residual_y_ini  residual_x_lstsq  residual_y_lstsq\n",
      "0              WestRoofEdge     -112.976560     -100.702685         -0.108305         -0.694853\n",
      "1                TopParasol     -106.176111     -165.497449         -0.542962         -1.689114\n",
      "2       NorthWestWallCorner      -93.080947     -126.607949          5.249274         -5.489724\n",
      "3         SouthEastRoofEdge     -163.152575     -198.164426         -4.464186         -0.477214\n",
      "4   CloisterArcadeSouthWest     -167.683074     -132.334468          0.471223          1.301865\n",
      "5   CloisterArcadeSouthEast     -153.540946     -172.986898         -0.709482          0.001065\n",
      "6   CloisterArcadeNorthWest     -115.869914     -110.854395          8.348392         10.348450\n",
      "7            Centerfountain     -128.836897     -147.383770          0.048575          0.714922\n",
      "8                    RoofSW     -154.038509     -110.994216         13.824091          9.584544\n",
      "9               MarkerGrass     -111.370400     -135.253847          2.212024         -2.336399\n",
      "10            SEGalleryEdge     -145.940025     -171.983523         -3.338181          1.076340\n",
      "11            SWRooftopEdge     -171.004726     -105.349479          4.024733          6.253699\n"
     ]
    }
   ],
   "source": [
    "from projimdem import resection as rs\n",
    "from projimdem import ProjectImageOnDEM as pi\n",
    "\n",
    "cam_file = 'CuczaDemoData/CamCucza.json'\n",
    "GCP_file = 'CuczaDemoData/GCPs_Centered.csv'\n",
    "\n",
    "dem_file = 'CuczaDemoData/DEM.tif'\n",
    "viewshed_file = 'CuczaDemoData/Viewshed.tif'\n",
    "image_file = 'CuczaDemoData/Abbey-IMG_0209.jpg'\n",
    "output_file = 'CuczaDemoData/proj_img_foc_free.tif'\n",
    "\n",
    "test = rs.resection(cam_file, GCP_file, x_offset=0, y_offset=0, z_offset=0, \n",
    "                    free_param=['omega', 'phi', 'kappa'], \n",
    "                    param_bounds=([-3.15, -3.15, -3.15], [3.15,3.15,3.15]))\n",
    "            \n",
    "test.estimate_cam()\n",
    "test.print_residuals()\n",
    "\n",
    "# test_proj = pi.ProjIm2dem(dem_file=dem_file,\n",
    "#                           viewshed_file=viewshed_file,\n",
    "#                           image_file=image_file,\n",
    "#                           cam_param=test.estimate.new_cam,\n",
    "#                            output_file=output_file\n",
    "#                           )\n",
    "# test_proj.ProjectImage2DEM(return_raster=True, epsg=32632)\n",
    "\n"
   ]
  },
  {
   "cell_type": "code",
   "execution_count": 21,
   "metadata": {},
   "outputs": [
    {
     "data": {
      "text/plain": [
       "(525, 707)"
      ]
     },
     "execution_count": 21,
     "metadata": {},
     "output_type": "execute_result"
    }
   ],
   "source": [
    "test_proj.viewshed_raster.GetRasterBand(1).ReadAsArray()"
   ]
  },
  {
   "cell_type": "code",
   "execution_count": 20,
   "metadata": {},
   "outputs": [
    {
     "data": {
      "text/plain": [
       "686"
      ]
     },
     "execution_count": 20,
     "metadata": {},
     "output_type": "execute_result"
    }
   ],
   "source": [
    "test_proj.Xsize\n",
    "test_proj.Ysize"
   ]
  },
  {
   "cell_type": "code",
   "execution_count": 10,
   "metadata": {},
   "outputs": [],
   "source": [
    "from projimdem import resection as rs\n",
    "from projimdem import ProjectImageOnDEM as pi\n",
    "from matplotlib import pyplot as plt\n",
    "import numpy as np\n",
    "\n",
    "cam_file = 'FinseDemoData/CamFinseInitv2.json'\n",
    "GCP_file = 'FinseDemoData/GCPs_pointagev4.csv'\n",
    "image_file='/home/arcticsnow/github/latice_snowmip/data/images/2019/2019-07-16_12-00.jpg'\n",
    "\n",
    "image_file = 'FinseDemoData/2019-05-24_12-00_ori.jpg'\n",
    "#finse = rs.resection(cam_file, GCP_file, image_file,delimiter_GCP=',',\n",
    "#                    free_param=['omega', 'phi', 'kappa', 'Foc'], \n",
    "#                    param_bounds=([-3.15, -3.15, -3.15,500], [3.15,3.15,3.15,3000]))\n",
    "\n",
    "#finse.GCPs\n",
    "#finse.estimate_cam(loss='huber', f_scale=.1)\n",
    "#finse.print_residuals()"
   ]
  },
  {
   "cell_type": "code",
   "execution_count": 12,
   "metadata": {},
   "outputs": [
    {
     "name": "stdout",
     "output_type": "stream",
     "text": [
      "Using matplotlib backend: Qt5Agg\n"
     ]
    }
   ],
   "source": [
    "%matplotlib\n",
    "finse.proj_GCPs2img()"
   ]
  },
  {
   "cell_type": "code",
   "execution_count": 19,
   "metadata": {},
   "outputs": [
    {
     "ename": "AttributeError",
     "evalue": "'resection' object has no attribute 'ProjectImage2DEM'",
     "output_type": "error",
     "traceback": [
      "\u001b[0;31m---------------------------------------------------------------------------\u001b[0m",
      "\u001b[0;31mAttributeError\u001b[0m                            Traceback (most recent call last)",
      "\u001b[0;32m<ipython-input-19-c8b7b9cb4f4c>\u001b[0m in \u001b[0;36m<module>\u001b[0;34m\u001b[0m\n\u001b[0;32m----> 1\u001b[0;31m \u001b[0mfinse\u001b[0m\u001b[0;34m.\u001b[0m\u001b[0mProjectImage2DEM\u001b[0m\u001b[0;34m(\u001b[0m\u001b[0mreturn_raster\u001b[0m\u001b[0;34m=\u001b[0m\u001b[0;32mTrue\u001b[0m\u001b[0;34m,\u001b[0m \u001b[0mepsg\u001b[0m\u001b[0;34m=\u001b[0m\u001b[0;36m32632\u001b[0m\u001b[0;34m)\u001b[0m\u001b[0;34m\u001b[0m\u001b[0;34m\u001b[0m\u001b[0m\n\u001b[0m",
      "\u001b[0;31mAttributeError\u001b[0m: 'resection' object has no attribute 'ProjectImage2DEM'"
     ]
    }
   ],
   "source": [
    "finse.ProjectImage2DEM(return_raster=True, epsg=32632)"
   ]
  },
  {
   "cell_type": "code",
   "execution_count": 8,
   "metadata": {},
   "outputs": [
    {
     "name": "stderr",
     "output_type": "stream",
     "text": [
      "/home/arcticsnow/miniconda3/envs/dataAna/lib/python3.8/site-packages/pandas/core/indexing.py:1636: SettingWithCopyWarning: \n",
      "A value is trying to be set on a copy of a slice from a DataFrame\n",
      "\n",
      "See the caveats in the documentation: https://pandas.pydata.org/pandas-docs/stable/user_guide/indexing.html#returning-a-view-versus-a-copy\n",
      "  self._setitem_single_block(indexer, value, name)\n"
     ]
    },
    {
     "name": "stdout",
     "output_type": "stream",
     "text": [
      "`ftol` termination condition is satisfied.\n",
      "Function evaluations 392, initial cost 8.4101e+03, final cost 1.2160e+02, first-order optimality 2.02e-03.\n",
      "RMSE initial =  1190.9899831273426\n",
      "RMSE lstsq =  23.301107274045062\n"
     ]
    },
    {
     "data": {
      "text/plain": [
       "[[419167.62732533197, 6718421.643089386, 1216.104292082461],\n",
       " array([[ 0.46296966, -0.11404656,  0.87900653],\n",
       "        [-0.88635449, -0.06616938,  0.45825467],\n",
       "        [ 0.00590095, -0.99126939, -0.1317201 ]]),\n",
       " 1329.0839484785345]"
      ]
     },
     "execution_count": 8,
     "metadata": {},
     "output_type": "execute_result"
    }
   ],
   "source": [
    "cam_file = 'FinseDemoData/CamFinseInit.json'\n",
    "finse2 = rs.resection(cam_file, GCP_file, image_file, delimiter_GCP=',',\n",
    "                    free_param=['omega', 'phi', 'kappa','X_ini','Y_ini','Z_ini', 'Foc'], \n",
    "                    param_bounds=([-3.15, -3.15, -3.15,-np.inf,-np.inf,-np.inf,500], [3.15,3.15,3.15,np.inf,np.inf,np.inf,3000]))\n",
    "\n",
    "#finse.GCPs\n",
    "finse2.estimate_cam(method='trf',loss='huber', f_scale=0.1)\n",
    "#print(finse.estimate.lstsq_results.x)\n",
    "#print(finse2.estimate.lstsq_results.x)\n"
   ]
  },
  {
   "cell_type": "code",
   "execution_count": 3,
   "metadata": {},
   "outputs": [
    {
     "name": "stdout",
     "output_type": "stream",
     "text": [
      "Using matplotlib backend: Qt5Agg\n"
     ]
    }
   ],
   "source": [
    "%matplotlib\n",
    "finse2.proj_GCPs2img()"
   ]
  },
  {
   "cell_type": "code",
   "execution_count": 7,
   "metadata": {},
   "outputs": [
    {
     "data": {
      "text/plain": [
       "[[419167.62731376773, 6718421.643070839, 1216.104289907821],\n",
       " array([[ 0.46296985, -0.11404647,  0.87900644],\n",
       "        [-0.88635439, -0.06616938,  0.45825486],\n",
       "        [ 0.00590096, -0.9912694 , -0.13172002]]),\n",
       " 1329.084606042101]"
      ]
     },
     "execution_count": 7,
     "metadata": {},
     "output_type": "execute_result"
    }
   ],
   "source": [
    "finse2.new_cam.proj_param"
   ]
  },
  {
   "cell_type": "code",
   "execution_count": 5,
   "metadata": {},
   "outputs": [
    {
     "data": {
      "text/plain": [
       "namespace(eop=namespace(omega=1.49,\n",
       "                        phi=-0.39,\n",
       "                        kappa=-0.39,\n",
       "                        X_ini=419169.2,\n",
       "                        Y_ini=6718421.3,\n",
       "                        Z_ini=1212),\n",
       "          iop=namespace(x0=0, y0=0, Foc=1484))"
      ]
     },
     "execution_count": 5,
     "metadata": {},
     "output_type": "execute_result"
    }
   ],
   "source": [
    "finse2.cam\n",
    "419169.636,6718421.541"
   ]
  },
  {
   "cell_type": "code",
   "execution_count": 17,
   "metadata": {},
   "outputs": [
    {
     "name": "stdout",
     "output_type": "stream",
     "text": [
      "gdal_viewshed -ox 419167.62732533197 -oy 6718421.643089386 -oz -173.26570303472658 /home/arcticsnow/github/latice_snowmip/data/time_lapse_finse_DSM.tif FinseDemoData/viewshed_high.tif\n"
     ]
    },
    {
     "ename": "AttributeError",
     "evalue": "'NoneType' object has no attribute 'GetRasterBand'",
     "output_type": "error",
     "traceback": [
      "\u001b[0;31m---------------------------------------------------------------------------\u001b[0m",
      "\u001b[0;31mAttributeError\u001b[0m                            Traceback (most recent call last)",
      "\u001b[0;32m<ipython-input-17-e083254e7c9c>\u001b[0m in \u001b[0;36m<module>\u001b[0;34m\u001b[0m\n\u001b[1;32m      4\u001b[0m \u001b[0moutput_file\u001b[0m \u001b[0;34m=\u001b[0m \u001b[0;34m'FinseDemoData/finse_wow_winter_high.tif'\u001b[0m\u001b[0;34m\u001b[0m\u001b[0;34m\u001b[0m\u001b[0m\n\u001b[1;32m      5\u001b[0m \u001b[0;34m\u001b[0m\u001b[0m\n\u001b[0;32m----> 6\u001b[0;31m finse_proj = pi.ProjIm2dem(dem_file=dem_file,\n\u001b[0m\u001b[1;32m      7\u001b[0m                           \u001b[0mviewshed_file\u001b[0m\u001b[0;34m=\u001b[0m\u001b[0mviewshed_file\u001b[0m\u001b[0;34m,\u001b[0m\u001b[0;34m\u001b[0m\u001b[0;34m\u001b[0m\u001b[0m\n\u001b[1;32m      8\u001b[0m                           \u001b[0mimage_file\u001b[0m\u001b[0;34m=\u001b[0m\u001b[0mimage_file\u001b[0m\u001b[0;34m,\u001b[0m\u001b[0;34m\u001b[0m\u001b[0;34m\u001b[0m\u001b[0m\n",
      "\u001b[0;32m~/github/ProjectImageToDEM/projimdem/ProjectImageOnDEM.py\u001b[0m in \u001b[0;36m__init__\u001b[0;34m(self, dem_file, viewshed_file, image_file, cam_param, output_file, dem_nan_value)\u001b[0m\n\u001b[1;32m     51\u001b[0m         \u001b[0mos\u001b[0m\u001b[0;34m.\u001b[0m\u001b[0msystem\u001b[0m\u001b[0;34m(\u001b[0m\u001b[0mcommand\u001b[0m\u001b[0;34m)\u001b[0m\u001b[0;34m\u001b[0m\u001b[0;34m\u001b[0m\u001b[0m\n\u001b[1;32m     52\u001b[0m         \u001b[0mself\u001b[0m\u001b[0;34m.\u001b[0m\u001b[0mviewshed_raster\u001b[0m \u001b[0;34m=\u001b[0m \u001b[0mgdal\u001b[0m\u001b[0;34m.\u001b[0m\u001b[0mOpen\u001b[0m\u001b[0;34m(\u001b[0m\u001b[0mviewshed_file\u001b[0m\u001b[0;34m)\u001b[0m\u001b[0;34m\u001b[0m\u001b[0;34m\u001b[0m\u001b[0m\n\u001b[0;32m---> 53\u001b[0;31m         \u001b[0mself\u001b[0m\u001b[0;34m.\u001b[0m\u001b[0mviewshed_data\u001b[0m \u001b[0;34m=\u001b[0m \u001b[0mself\u001b[0m\u001b[0;34m.\u001b[0m\u001b[0mviewshed_raster\u001b[0m\u001b[0;34m.\u001b[0m\u001b[0mGetRasterBand\u001b[0m\u001b[0;34m(\u001b[0m\u001b[0;36m1\u001b[0m\u001b[0;34m)\u001b[0m\u001b[0;34m.\u001b[0m\u001b[0mReadAsArray\u001b[0m\u001b[0;34m(\u001b[0m\u001b[0;36m0\u001b[0m\u001b[0;34m,\u001b[0m \u001b[0;36m0\u001b[0m\u001b[0;34m,\u001b[0m \u001b[0mself\u001b[0m\u001b[0;34m.\u001b[0m\u001b[0mXsize\u001b[0m\u001b[0;34m,\u001b[0m \u001b[0mself\u001b[0m\u001b[0;34m.\u001b[0m\u001b[0mYsize\u001b[0m\u001b[0;34m)\u001b[0m\u001b[0;34m\u001b[0m\u001b[0;34m\u001b[0m\u001b[0m\n\u001b[0m\u001b[1;32m     54\u001b[0m \u001b[0;34m\u001b[0m\u001b[0m\n\u001b[1;32m     55\u001b[0m         \u001b[0mself\u001b[0m\u001b[0;34m.\u001b[0m\u001b[0mimage\u001b[0m \u001b[0;34m=\u001b[0m \u001b[0mpyplot\u001b[0m\u001b[0;34m.\u001b[0m\u001b[0mimread\u001b[0m\u001b[0;34m(\u001b[0m\u001b[0mimage_file\u001b[0m\u001b[0;34m)\u001b[0m\u001b[0;34m\u001b[0m\u001b[0;34m\u001b[0m\u001b[0m\n",
      "\u001b[0;31mAttributeError\u001b[0m: 'NoneType' object has no attribute 'GetRasterBand'"
     ]
    }
   ],
   "source": [
    "#dem_file = 'FinseDemoData/time_lapse_finse_DSM_mid.tif'\n",
    "dem_file = '/home/arcticsnow/github/latice_snowmip/data/time_lapse_finse_DSM.tif'\n",
    "viewshed_file = 'FinseDemoData/viewshed_high.tif'\n",
    "output_file = 'FinseDemoData/finse_wow_winter_high.tif'\n",
    "\n",
    "finse_proj = pi.ProjIm2dem(dem_file=dem_file,\n",
    "                          viewshed_file=viewshed_file,\n",
    "                          image_file=image_file,\n",
    "                          cam_param=finse2.new_cam.proj_param,\n",
    "                           output_file=output_file\n",
    "                          )\n",
    "finse_proj.ProjectImage2DEM(return_raster=True, epsg=32632)"
   ]
  },
  {
   "cell_type": "code",
   "execution_count": 5,
   "metadata": {},
   "outputs": [
    {
     "name": "stdout",
     "output_type": "stream",
     "text": [
      "Ortho computed in 24.0104 seconds\n",
      "Driver GTiff supports Create() method.\n",
      "Driver GTiff supports CreateCopy() method.\n",
      "Ortho computed\n"
     ]
    },
    {
     "data": {
      "text/plain": [
       "0"
      ]
     },
     "execution_count": 5,
     "metadata": {},
     "output_type": "execute_result"
    }
   ],
   "source": [
    "output_file = 'FinseDemoData/finse_2.tif'\n",
    "\n",
    "finse_proj2 = pi.ProjIm2dem(dem_file=dem_file,\n",
    "                          viewshed_file=viewshed_file,\n",
    "                          image_file=image_file,\n",
    "                          cam_param=finse2.new_cam.proj_param,\n",
    "                           output_file=output_file\n",
    "                          )\n",
    "finse_proj2.ProjectImage2DEM(return_raster=True, epsg=32632)"
   ]
  },
  {
   "cell_type": "code",
   "execution_count": 7,
   "metadata": {},
   "outputs": [
    {
     "data": {
      "image/png": "[encoded data removed]",
      "text/plain": [
       "<Figure size 432x288 with 12 Axes>"
      ]
     },
     "metadata": {
      "needs_background": "light"
     },
     "output_type": "display_data"
    }
   ],
   "source": [
    "finse.plot_residuals()"
   ]
  },
  {
   "cell_type": "code",
   "execution_count": 6,
   "metadata": {},
   "outputs": [
    {
     "ename": "AttributeError",
     "evalue": "'resection' object has no attribute 'ortho'",
     "output_type": "error",
     "traceback": [
      "\u001b[0;31m---------------------------------------------------------------------------\u001b[0m",
      "\u001b[0;31mAttributeError\u001b[0m                            Traceback (most recent call last)",
      "\u001b[0;32m<ipython-input-6-71c0d6c91e71>\u001b[0m in \u001b[0;36m<module>\u001b[0;34m\u001b[0m\n\u001b[0;32m----> 1\u001b[0;31m \u001b[0mplt\u001b[0m\u001b[0;34m.\u001b[0m\u001b[0mimshow\u001b[0m\u001b[0;34m(\u001b[0m\u001b[0mfinse\u001b[0m\u001b[0;34m.\u001b[0m\u001b[0mortho\u001b[0m\u001b[0;34m)\u001b[0m\u001b[0;34m\u001b[0m\u001b[0;34m\u001b[0m\u001b[0m\n\u001b[0m",
      "\u001b[0;31mAttributeError\u001b[0m: 'resection' object has no attribute 'ortho'"
     ]
    }
   ],
   "source": [
    "plt.imshow(finse.ortho)"
   ]
  },
  {
   "cell_type": "code",
   "execution_count": 60,
   "metadata": {},
   "outputs": [],
   "source": [
    "# checGCPsGCPs on image\n",
    "plt.figure()\n",
    "plt.imshow(finse_proj.image)\n",
    "plt.scatter(finse.GCPs.x_img+finse_proj.image.shape[1]/2, finse_proj.image.shape[0] - (finse.GCPs.y_img+finse_proj.image.shape[0]/2))\n",
    "for i, row in finse.GCPs.iterrows():\n",
    "    plt.annotate(row['name'], (row.x_img+finse_proj.image.shape[1]/2, finse_proj.image.shape[0] -(row.y_img +finse_proj.image.shape[0]/2) ))"
   ]
  },
  {
   "cell_type": "code",
   "execution_count": 34,
   "metadata": {},
   "outputs": [
    {
     "data": {
      "text/plain": [
       "686"
      ]
     },
     "execution_count": 34,
     "metadata": {},
     "output_type": "execute_result"
    }
   ],
   "source": [
    "finse.GCPs.x_img\n",
    "finse_proj.Ysize"
   ]
  },
  {
   "cell_type": "code",
   "execution_count": 41,
   "metadata": {},
   "outputs": [
    {
     "data": {
      "text/plain": [
       "(1020, 1920, 3)"
      ]
     },
     "execution_count": 41,
     "metadata": {},
     "output_type": "execute_result"
    }
   ],
   "source": [
    "finse_proj.image.shape"
   ]
  },
  {
   "cell_type": "code",
   "execution_count": 5,
   "metadata": {},
   "outputs": [
    {
     "data": {
      "text/html": [
       "<div>\n",
       "<style scoped>\n",
       "    .dataframe tbody tr th:only-of-type {\n",
       "        vertical-align: middle;\n",
       "    }\n",
       "\n",
       "    .dataframe tbody tr th {\n",
       "        vertical-align: top;\n",
       "    }\n",
       "\n",
       "    .dataframe thead th {\n",
       "        text-align: right;\n",
       "    }\n",
       "</style>\n",
       "<table border=\"1\" class=\"dataframe\">\n",
       "  <thead>\n",
       "    <tr style=\"text-align: right;\">\n",
       "      <th></th>\n",
       "      <th>name</th>\n",
       "      <th>x_img</th>\n",
       "      <th>y_img</th>\n",
       "      <th>x_world</th>\n",
       "      <th>y_world</th>\n",
       "      <th>z_world</th>\n",
       "      <th>lstsq_IO</th>\n",
       "      <th>residual_x_lstsq</th>\n",
       "      <th>residual_y_lstsq</th>\n",
       "      <th>residual_x_ini</th>\n",
       "      <th>residual_y_ini</th>\n",
       "    </tr>\n",
       "  </thead>\n",
       "  <tbody>\n",
       "    <tr>\n",
       "      <th>0</th>\n",
       "      <td>P1</td>\n",
       "      <td>848</td>\n",
       "      <td>175</td>\n",
       "      <td>9655.4625</td>\n",
       "      <td>8367.856</td>\n",
       "      <td>1205.08997</td>\n",
       "      <td>1</td>\n",
       "      <td>NaN</td>\n",
       "      <td>NaN</td>\n",
       "      <td>0.000000</td>\n",
       "      <td>0.000000</td>\n",
       "    </tr>\n",
       "    <tr>\n",
       "      <th>1</th>\n",
       "      <td>P2</td>\n",
       "      <td>656</td>\n",
       "      <td>216</td>\n",
       "      <td>9762.5746</td>\n",
       "      <td>8440.416</td>\n",
       "      <td>1210.50000</td>\n",
       "      <td>1</td>\n",
       "      <td>0.0</td>\n",
       "      <td>0.0</td>\n",
       "      <td>-2433.759967</td>\n",
       "      <td>-1052.914862</td>\n",
       "    </tr>\n",
       "    <tr>\n",
       "      <th>2</th>\n",
       "      <td>P3</td>\n",
       "      <td>846</td>\n",
       "      <td>190</td>\n",
       "      <td>9728.5752</td>\n",
       "      <td>8360.669</td>\n",
       "      <td>1206.71997</td>\n",
       "      <td>1</td>\n",
       "      <td>NaN</td>\n",
       "      <td>NaN</td>\n",
       "      <td>0.000000</td>\n",
       "      <td>0.000000</td>\n",
       "    </tr>\n",
       "    <tr>\n",
       "      <th>3</th>\n",
       "      <td>P7</td>\n",
       "      <td>404</td>\n",
       "      <td>182</td>\n",
       "      <td>9328.7125</td>\n",
       "      <td>8469.457</td>\n",
       "      <td>1208.79004</td>\n",
       "      <td>1</td>\n",
       "      <td>NaN</td>\n",
       "      <td>NaN</td>\n",
       "      <td>0.000000</td>\n",
       "      <td>0.000000</td>\n",
       "    </tr>\n",
       "    <tr>\n",
       "      <th>4</th>\n",
       "      <td>P8</td>\n",
       "      <td>131</td>\n",
       "      <td>202</td>\n",
       "      <td>9327.5960</td>\n",
       "      <td>8487.768</td>\n",
       "      <td>1210.94995</td>\n",
       "      <td>1</td>\n",
       "      <td>NaN</td>\n",
       "      <td>NaN</td>\n",
       "      <td>0.000000</td>\n",
       "      <td>0.000000</td>\n",
       "    </tr>\n",
       "    <tr>\n",
       "      <th>5</th>\n",
       "      <td>P9</td>\n",
       "      <td>-131</td>\n",
       "      <td>235</td>\n",
       "      <td>9344.3437</td>\n",
       "      <td>8534.215</td>\n",
       "      <td>1211.02002</td>\n",
       "      <td>1</td>\n",
       "      <td>NaN</td>\n",
       "      <td>NaN</td>\n",
       "      <td>0.000000</td>\n",
       "      <td>0.000000</td>\n",
       "    </tr>\n",
       "    <tr>\n",
       "      <th>6</th>\n",
       "      <td>P12</td>\n",
       "      <td>-697</td>\n",
       "      <td>78</td>\n",
       "      <td>9192.3856</td>\n",
       "      <td>8450.476</td>\n",
       "      <td>1207.92004</td>\n",
       "      <td>1</td>\n",
       "      <td>NaN</td>\n",
       "      <td>NaN</td>\n",
       "      <td>0.000000</td>\n",
       "      <td>0.000000</td>\n",
       "    </tr>\n",
       "    <tr>\n",
       "      <th>7</th>\n",
       "      <td>P13</td>\n",
       "      <td>-580</td>\n",
       "      <td>235</td>\n",
       "      <td>9409.8834</td>\n",
       "      <td>8718.999</td>\n",
       "      <td>1212.62000</td>\n",
       "      <td>1</td>\n",
       "      <td>NaN</td>\n",
       "      <td>NaN</td>\n",
       "      <td>0.000000</td>\n",
       "      <td>0.000000</td>\n",
       "    </tr>\n",
       "    <tr>\n",
       "      <th>8</th>\n",
       "      <td>P14</td>\n",
       "      <td>-186</td>\n",
       "      <td>275</td>\n",
       "      <td>9597.9050</td>\n",
       "      <td>8720.338</td>\n",
       "      <td>1227.31995</td>\n",
       "      <td>1</td>\n",
       "      <td>NaN</td>\n",
       "      <td>NaN</td>\n",
       "      <td>0.000000</td>\n",
       "      <td>0.000000</td>\n",
       "    </tr>\n",
       "    <tr>\n",
       "      <th>9</th>\n",
       "      <td>P16</td>\n",
       "      <td>-616</td>\n",
       "      <td>425</td>\n",
       "      <td>9824.7815</td>\n",
       "      <td>9272.047</td>\n",
       "      <td>1349.29004</td>\n",
       "      <td>1</td>\n",
       "      <td>NaN</td>\n",
       "      <td>NaN</td>\n",
       "      <td>0.000000</td>\n",
       "      <td>0.000000</td>\n",
       "    </tr>\n",
       "    <tr>\n",
       "      <th>10</th>\n",
       "      <td>P17</td>\n",
       "      <td>-891</td>\n",
       "      <td>421</td>\n",
       "      <td>9712.8320</td>\n",
       "      <td>9545.966</td>\n",
       "      <td>1376.18005</td>\n",
       "      <td>1</td>\n",
       "      <td>NaN</td>\n",
       "      <td>NaN</td>\n",
       "      <td>0.000000</td>\n",
       "      <td>0.000000</td>\n",
       "    </tr>\n",
       "    <tr>\n",
       "      <th>11</th>\n",
       "      <td>P20</td>\n",
       "      <td>791</td>\n",
       "      <td>-117</td>\n",
       "      <td>9194.9164</td>\n",
       "      <td>8423.047</td>\n",
       "      <td>1208.67004</td>\n",
       "      <td>1</td>\n",
       "      <td>NaN</td>\n",
       "      <td>NaN</td>\n",
       "      <td>0.000000</td>\n",
       "      <td>0.000000</td>\n",
       "    </tr>\n",
       "    <tr>\n",
       "      <th>12</th>\n",
       "      <td>P21</td>\n",
       "      <td>333</td>\n",
       "      <td>156</td>\n",
       "      <td>9297.8594</td>\n",
       "      <td>8454.756</td>\n",
       "      <td>1207.68005</td>\n",
       "      <td>1</td>\n",
       "      <td>NaN</td>\n",
       "      <td>NaN</td>\n",
       "      <td>0.000000</td>\n",
       "      <td>0.000000</td>\n",
       "    </tr>\n",
       "    <tr>\n",
       "      <th>13</th>\n",
       "      <td>P25</td>\n",
       "      <td>359</td>\n",
       "      <td>390</td>\n",
       "      <td>10306.2986</td>\n",
       "      <td>8697.710</td>\n",
       "      <td>1342.06006</td>\n",
       "      <td>1</td>\n",
       "      <td>NaN</td>\n",
       "      <td>NaN</td>\n",
       "      <td>0.000000</td>\n",
       "      <td>0.000000</td>\n",
       "    </tr>\n",
       "    <tr>\n",
       "      <th>14</th>\n",
       "      <td>P26</td>\n",
       "      <td>368</td>\n",
       "      <td>392</td>\n",
       "      <td>10451.8926</td>\n",
       "      <td>8723.614</td>\n",
       "      <td>1360.28994</td>\n",
       "      <td>1</td>\n",
       "      <td>NaN</td>\n",
       "      <td>NaN</td>\n",
       "      <td>0.000000</td>\n",
       "      <td>0.000000</td>\n",
       "    </tr>\n",
       "    <tr>\n",
       "      <th>15</th>\n",
       "      <td>P28</td>\n",
       "      <td>-167</td>\n",
       "      <td>460</td>\n",
       "      <td>10305.4054</td>\n",
       "      <td>9188.978</td>\n",
       "      <td>1419.29004</td>\n",
       "      <td>1</td>\n",
       "      <td>NaN</td>\n",
       "      <td>NaN</td>\n",
       "      <td>0.000000</td>\n",
       "      <td>0.000000</td>\n",
       "    </tr>\n",
       "    <tr>\n",
       "      <th>16</th>\n",
       "      <td>P100</td>\n",
       "      <td>-546</td>\n",
       "      <td>470</td>\n",
       "      <td>10066.0239</td>\n",
       "      <td>9479.273</td>\n",
       "      <td>1439.59998</td>\n",
       "      <td>1</td>\n",
       "      <td>NaN</td>\n",
       "      <td>NaN</td>\n",
       "      <td>0.000000</td>\n",
       "      <td>0.000000</td>\n",
       "    </tr>\n",
       "  </tbody>\n",
       "</table>\n",
       "</div>"
      ],
      "text/plain": [
       "    name  x_img  y_img     x_world   y_world     z_world  lstsq_IO  \\\n",
       "0     P1    848    175   9655.4625  8367.856  1205.08997         1   \n",
       "1     P2    656    216   9762.5746  8440.416  1210.50000         1   \n",
       "2     P3    846    190   9728.5752  8360.669  1206.71997         1   \n",
       "3     P7    404    182   9328.7125  8469.457  1208.79004         1   \n",
       "4     P8    131    202   9327.5960  8487.768  1210.94995         1   \n",
       "5     P9   -131    235   9344.3437  8534.215  1211.02002         1   \n",
       "6    P12   -697     78   9192.3856  8450.476  1207.92004         1   \n",
       "7    P13   -580    235   9409.8834  8718.999  1212.62000         1   \n",
       "8    P14   -186    275   9597.9050  8720.338  1227.31995         1   \n",
       "9    P16   -616    425   9824.7815  9272.047  1349.29004         1   \n",
       "10   P17   -891    421   9712.8320  9545.966  1376.18005         1   \n",
       "11   P20    791   -117   9194.9164  8423.047  1208.67004         1   \n",
       "12   P21    333    156   9297.8594  8454.756  1207.68005         1   \n",
       "13   P25    359    390  10306.2986  8697.710  1342.06006         1   \n",
       "14   P26    368    392  10451.8926  8723.614  1360.28994         1   \n",
       "15   P28   -167    460  10305.4054  9188.978  1419.29004         1   \n",
       "16  P100   -546    470  10066.0239  9479.273  1439.59998         1   \n",
       "\n",
       "    residual_x_lstsq  residual_y_lstsq  residual_x_ini  residual_y_ini  \n",
       "0                NaN               NaN        0.000000        0.000000  \n",
       "1                0.0               0.0    -2433.759967    -1052.914862  \n",
       "2                NaN               NaN        0.000000        0.000000  \n",
       "3                NaN               NaN        0.000000        0.000000  \n",
       "4                NaN               NaN        0.000000        0.000000  \n",
       "5                NaN               NaN        0.000000        0.000000  \n",
       "6                NaN               NaN        0.000000        0.000000  \n",
       "7                NaN               NaN        0.000000        0.000000  \n",
       "8                NaN               NaN        0.000000        0.000000  \n",
       "9                NaN               NaN        0.000000        0.000000  \n",
       "10               NaN               NaN        0.000000        0.000000  \n",
       "11               NaN               NaN        0.000000        0.000000  \n",
       "12               NaN               NaN        0.000000        0.000000  \n",
       "13               NaN               NaN        0.000000        0.000000  \n",
       "14               NaN               NaN        0.000000        0.000000  \n",
       "15               NaN               NaN        0.000000        0.000000  \n",
       "16               NaN               NaN        0.000000        0.000000  "
      ]
     },
     "execution_count": 5,
     "metadata": {},
     "output_type": "execute_result"
    }
   ],
   "source": [
    "finse.GCPs.loc[finse.GCPs.lstsq_IO.astype(bool)]"
   ]
  },
  {
   "cell_type": "code",
   "execution_count": 2,
   "metadata": {},
   "outputs": [
    {
     "data": {
      "text/plain": [
       "<matplotlib.colorbar.Colorbar at 0x7f282ff6d9a0>"
      ]
     },
     "execution_count": 2,
     "metadata": {},
     "output_type": "execute_result"
    },
    {
     "data": {
      "image/png": "[encoded data removed]",
      "text/plain": [
       "<Figure size 432x288 with 12 Axes>"
      ]
     },
     "metadata": {
      "needs_background": "light"
     },
     "output_type": "display_data"
    }
   ],
   "source": [
    "from matplotlib import pyplot as plt\n",
    "fig, ax = plt.subplots(3,2,sharex=True, sharey=True)\n",
    "sc1 = ax[0,0].scatter(finse.GCPs.x_img, finse.GCPs.y_img, \n",
    "                      c=finse.GCPs.residual_x_ini,\n",
    "                      cmap=plt.cm.RdBu,\n",
    "                      vmin= -finse.GCPs[['residual_x_ini', 'residual_y_ini']].abs().max().max(),\n",
    "                      vmax= finse.GCPs[['residual_x_ini', 'residual_y_ini']].abs().max().max())\n",
    "ax[0,0].set_title('Initial Residuals in X')\n",
    "plt.colorbar(sc1, ax=ax[0,0])\n",
    "sc2 = ax[0,1].scatter(finse.GCPs.x_img, finse.GCPs.y_img,\n",
    "                      c=finse.GCPs.residual_y_ini,\n",
    "                      cmap=plt.cm.RdBu,\n",
    "                      vmin= -finse.GCPs[['residual_x_ini', 'residual_y_ini']].abs().max().max(),\n",
    "                      vmax= finse.GCPs[['residual_x_ini', 'residual_y_ini']].abs().max().max())\n",
    "ax[0,1].set_title('Initial Residuals in Y')\n",
    "plt.colorbar(sc2, ax=ax[0,1])\n",
    "sc3 = ax[1,0].scatter(finse.GCPs.x_img, finse.GCPs.y_img,\n",
    "                      c=finse.GCPs.residual_x_lstsq,\n",
    "                      cmap=plt.cm.RdBu,\n",
    "                      vmin= -finse.GCPs[['residual_x_lstsq', 'residual_y_lstsq']].abs().max().max(),\n",
    "                      vmax= finse.GCPs[['residual_x_lstsq', 'residual_y_lstsq']].abs().max().max())\n",
    "ax[1,0].set_title('LstSq Residuals in X')\n",
    "plt.colorbar(sc3, ax=ax[1,0])\n",
    "sc4 = ax[1,1].scatter(finse.GCPs.x_img, finse.GCPs.y_img,\n",
    "                      c=finse.GCPs.residual_y_lstsq,\n",
    "                      cmap=plt.cm.RdBu,\n",
    "                      vmin= -finse.GCPs[['residual_x_lstsq', 'residual_y_lstsq']].abs().max().max(),\n",
    "                      vmax= finse.GCPs[['residual_x_lstsq', 'residual_y_lstsq']].abs().max().max())\n",
    "ax[1,1].set_title('LstSq Residuals in Y')\n",
    "plt.colorbar(sc4, ax=ax[1,1])\n",
    "\n",
    "sc5 = ax[2,0].scatter(finse.GCPs.x_img, \n",
    "                      finse.GCPs.y_img, \n",
    "                      c=finse.GCPs.residual_x_ini - finse.GCPs.residual_x_lstsq)\n",
    "ax[2,0].set_title('Diff in X')\n",
    "plt.colorbar(sc5, ax=ax[2,0])\n",
    "sc6 = ax[2,1].scatter(finse.GCPs.x_img, \n",
    "                      finse.GCPs.y_img, \n",
    "                      c=finse.GCPs.residual_y_ini - finse.GCPs.residual_y_lstsq)\n",
    "ax[2,1].set_title('Diff in Y')\n",
    "plt.colorbar(sc6, ax=ax[2,1])"
   ]
  },
  {
   "cell_type": "code",
   "execution_count": 2,
   "metadata": {},
   "outputs": [
    {
     "data": {
      "text/plain": [
       "Index(['name', 'x_img', 'y_img', 'x_world', 'y_world', 'z_world',\n",
       "       'residual_x_ini', 'residual_y_ini', 'residual_x_lstsq',\n",
       "       'residual_y_lstsq'],\n",
       "      dtype='object')"
      ]
     },
     "execution_count": 2,
     "metadata": {},
     "output_type": "execute_result"
    }
   ],
   "source": [
    "finse.GCPs.columns"
   ]
  },
  {
   "cell_type": "code",
   "execution_count": 12,
   "metadata": {},
   "outputs": [],
   "source": []
  },
  {
   "cell_type": "code",
   "execution_count": null,
   "metadata": {},
   "outputs": [],
   "source": []
  }
 ],
 "metadata": {
  "kernelspec": {
   "display_name": "dataAna",
   "language": "python",
   "name": "dataana"
  },
  "language_info": {
   "codemirror_mode": {
    "name": "ipython",
    "version": 3
   },
   "file_extension": ".py",
   "mimetype": "text/x-python",
   "name": "python",
   "nbconvert_exporter": "python",
   "pygments_lexer": "ipython3",
   "version": "3.8.2"
  }
 },
 "nbformat": 4,
 "nbformat_minor": 4
}
