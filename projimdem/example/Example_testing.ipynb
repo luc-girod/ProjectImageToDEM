{
 "cells": [
  {
   "cell_type": "code",
   "execution_count": 1,
   "metadata": {},
   "outputs": [],
   "source": [
    "import numpy as np\n",
    "from scipy import optimize\n",
    "import json\n",
    "import pandas as pd\n",
    "from types import SimpleNamespace\n",
    "from math import sin, cos"
   ]
  },
  {
   "cell_type": "code",
   "execution_count": 1,
   "metadata": {},
   "outputs": [
    {
     "name": "stderr",
     "output_type": "stream",
     "text": [
      "/home/arcticsnow/miniconda3/envs/dataAna/lib/python3.8/site-packages/pandas/core/indexing.py:1636: SettingWithCopyWarning: \n",
      "A value is trying to be set on a copy of a slice from a DataFrame\n",
      "\n",
      "See the caveats in the documentation: https://pandas.pydata.org/pandas-docs/stable/user_guide/indexing.html#returning-a-view-versus-a-copy\n",
      "  self._setitem_single_block(indexer, value, name)\n"
     ]
    },
    {
     "name": "stdout",
     "output_type": "stream",
     "text": [
      "`ftol` termination condition is satisfied.\n",
      "Function evaluations 23, initial cost 1.1768e+02, final cost 2.3118e+01, first-order optimality 4.15e-01.\n",
      "RMSE initial =  140.42737032432868\n",
      "RMSE lstsq =  5.091417970640866\n",
      "                       name  residual_x_ini  residual_y_ini  residual_x_lstsq  residual_y_lstsq\n",
      "0              WestRoofEdge     -112.976560     -100.702685         -0.108305         -0.694853\n",
      "1                TopParasol     -106.176111     -165.497449         -0.542962         -1.689114\n",
      "2       NorthWestWallCorner      -93.080947     -126.607949          5.249274         -5.489724\n",
      "3         SouthEastRoofEdge     -163.152575     -198.164426         -4.464186         -0.477214\n",
      "4   CloisterArcadeSouthWest     -167.683074     -132.334468          0.471223          1.301865\n",
      "5   CloisterArcadeSouthEast     -153.540946     -172.986898         -0.709482          0.001065\n",
      "6   CloisterArcadeNorthWest     -115.869914     -110.854395          8.348392         10.348450\n",
      "7            Centerfountain     -128.836897     -147.383770          0.048575          0.714922\n",
      "8                    RoofSW     -154.038509     -110.994216         13.824091          9.584544\n",
      "9               MarkerGrass     -111.370400     -135.253847          2.212024         -2.336399\n",
      "10            SEGalleryEdge     -145.940025     -171.983523         -3.338181          1.076340\n",
      "11            SWRooftopEdge     -171.004726     -105.349479          4.024733          6.253699\n"
     ]
    }
   ],
   "source": [
    "from projimdem import resection as rs\n",
    "from projimdem import ProjectImageOnDEM as pi\n",
    "\n",
    "cam_file = 'CuczaDemoData/CamCucza.json'\n",
    "GCP_file = 'CuczaDemoData/GCPs_Centered.csv'\n",
    "\n",
    "dem_file = 'CuczaDemoData/DEM.tif'\n",
    "viewshed_file = 'CuczaDemoData/Viewshed.tif'\n",
    "image_file = 'CuczaDemoData/Abbey-IMG_0209.jpg'\n",
    "output_file = 'CuczaDemoData/proj_img_foc_free.tif'\n",
    "\n",
    "test = rs.resection(cam_file, GCP_file, x_offset=0, y_offset=0, z_offset=0, \n",
    "                    free_param=['omega', 'phi', 'kappa'], \n",
    "                    param_bounds=([-3.15, -3.15, -3.15], [3.15,3.15,3.15]))\n",
    "            \n",
    "test.estimate_cam()\n",
    "test.print_residuals()\n",
    "\n",
    "# test_proj = pi.ProjIm2dem(dem_file=dem_file,\n",
    "#                           viewshed_file=viewshed_file,\n",
    "#                           image_file=image_file,\n",
    "#                           cam_param=test.estimate.new_cam,\n",
    "#                            output_file=output_file\n",
    "#                           )\n",
    "# test_proj.ProjectImage2DEM(return_raster=True, epsg=32632)\n",
    "\n"
   ]
  },
  {
   "cell_type": "code",
   "execution_count": 21,
   "metadata": {},
   "outputs": [
    {
     "data": {
      "text/plain": [
       "(525, 707)"
      ]
     },
     "execution_count": 21,
     "metadata": {},
     "output_type": "execute_result"
    }
   ],
   "source": [
    "test_proj.viewshed_raster.GetRasterBand(1).ReadAsArray()"
   ]
  },
  {
   "cell_type": "code",
   "execution_count": 20,
   "metadata": {},
   "outputs": [
    {
     "data": {
      "text/plain": [
       "686"
      ]
     },
     "execution_count": 20,
     "metadata": {},
     "output_type": "execute_result"
    }
   ],
   "source": [
    "test_proj.Xsize\n",
    "test_proj.Ysize"
   ]
  },
  {
   "cell_type": "code",
   "execution_count": 51,
   "metadata": {},
   "outputs": [
    {
     "name": "stdout",
     "output_type": "stream",
     "text": [
      "`ftol` termination condition is satisfied.\n",
      "Function evaluations 48, initial cost 1.8306e+02, final cost 7.6614e+01, first-order optimality 5.06e-02.\n",
      "RMSE initial =  1455.7745349870427\n",
      "RMSE lstsq =  69.70235680203194\n",
      "    name  residual_x_ini  residual_y_ini  residual_x_lstsq  residual_y_lstsq\n",
      "0    p17     -865.448543       38.966520        211.114175          0.026894\n",
      "1   p100     -870.517661     -108.977477         66.565420         -1.065447\n",
      "2    p16     -889.231421      -69.536115         71.348272         14.418821\n",
      "3    p13     -953.939679      -95.776402         42.439971         22.771221\n",
      "4    p12             NaN             NaN               NaN               NaN\n",
      "5    p11             NaN             NaN               NaN               NaN\n",
      "6     p9    -1062.049043     -301.164671         -2.623369         -0.043304\n",
      "7    p14    -1025.067399     -274.407183         -0.131443          2.448623\n",
      "8     p8    -1218.220140     -469.588784          5.248876        -26.423994\n",
      "9     p7    -1276.569942     -579.279156        123.858350        -35.279048\n",
      "10   p21             NaN             NaN               NaN               NaN\n",
      "11   p26    -1459.441090     -784.780996         -0.381753        -46.287887\n",
      "12   p25    -1441.240890     -769.879284          1.525804        -45.010193\n",
      "13    p2    -2398.530502    -1099.894253        -47.220098        -62.420923\n",
      "14    p1    -3935.630546    -1719.304653       -130.487640        -97.433213\n",
      "15    p3    -3907.988514    -1720.467494       -129.565501        -91.515237\n",
      "16   p20             NaN             NaN               NaN               NaN\n",
      "17   p28     -967.842690     -312.496871         10.605015          0.222562\n"
     ]
    }
   ],
   "source": [
    "from projimdem import resection as rs\n",
    "from projimdem import ProjectImageOnDEM as pi\n",
    "from matplotlib import pyplot as plt\n",
    "import numpy as np\n",
    "\n",
    "cam_file = 'FinseDemoData/CamFinseInit.json'\n",
    "GCP_file = 'FinseDemoData/GCPs_v3.csv'\n",
    "image_file = 'FinseDemoData/2019-05-24_12-00_ori.jpg'\n",
    "finse = rs.resection(cam_file, GCP_file, image_file,delimiter_GCP=',',\n",
    "                    free_param=['omega', 'phi', 'kappa','Z_ini','Foc'],x_offset=419169.2, y_offset=6718421.3, z_offset=1212, \n",
    "                    param_bounds=([-3.15, -3.15, -3.15,-100,1000], [3.15,3.15,3.15,100,2500]))\n",
    "\n",
    "#finse.GCPs\n",
    "finse.estimate_cam()\n",
    "finse.print_residuals()"
   ]
  },
  {
   "cell_type": "code",
   "execution_count": 52,
   "metadata": {},
   "outputs": [],
   "source": [
    "finse.proj_GCPs2img()"
   ]
  },
  {
   "cell_type": "code",
   "execution_count": 43,
   "metadata": {},
   "outputs": [],
   "source": [
    "finse.proj_XYZ2img()"
   ]
  },
  {
   "cell_type": "code",
   "execution_count": 55,
   "metadata": {},
   "outputs": [
    {
     "name": "stderr",
     "output_type": "stream",
     "text": [
      "/home/arcticsnow/miniconda3/envs/dataAna/lib/python3.8/site-packages/pandas/core/indexing.py:1636: SettingWithCopyWarning: \n",
      "A value is trying to be set on a copy of a slice from a DataFrame\n",
      "\n",
      "See the caveats in the documentation: https://pandas.pydata.org/pandas-docs/stable/user_guide/indexing.html#returning-a-view-versus-a-copy\n",
      "  self._setitem_single_block(indexer, value, name)\n"
     ]
    },
    {
     "name": "stdout",
     "output_type": "stream",
     "text": [
      "`ftol` termination condition is satisfied.\n",
      "Function evaluations 90, initial cost 1.8306e+02, final cost 6.3209e+01, first-order optimality 1.12e-01.\n",
      "RMSE initial =  1455.7745349870427\n",
      "RMSE lstsq =  59.01626025615447\n"
     ]
    },
    {
     "data": {
      "text/plain": [
       "[[419175.0560812523, 6718425.932471822, 1216.1052472382776],\n",
       " array([[ 0.45959124, -0.10126831,  0.88233815],\n",
       "        [-0.88802921, -0.06740695,  0.45481912],\n",
       "        [ 0.01341696, -0.99257294, -0.12090886]]),\n",
       " 1414.082204648181]"
      ]
     },
     "execution_count": 55,
     "metadata": {},
     "output_type": "execute_result"
    }
   ],
   "source": [
    "finse2 = rs.resection(cam_file, GCP_file, image_file, delimiter_GCP=',',\n",
    "                    free_param=['omega', 'phi', 'kappa','X_ini','Y_ini','Z_ini','Foc'], x_offset=419169.2, y_offset=6718421.3, z_offset=1212,\n",
    "                    param_bounds=([-3.15, -3.15, -3.15,-np.inf,-np.inf,-np.inf,1000], [3.15,3.15,3.15,np.inf,np.inf,np.inf,2000]))\n",
    "\n",
    "#finse.GCPs\n",
    "finse2.estimate_cam()\n",
    "#print(finse.estimate.lstsq_results.x)\n",
    "#print(finse2.estimate.lstsq_results.x)\n"
   ]
  },
  {
   "cell_type": "code",
   "execution_count": 56,
   "metadata": {},
   "outputs": [],
   "source": [
    "finse2.proj_GCPs2img()"
   ]
  },
  {
   "cell_type": "code",
   "execution_count": 4,
   "metadata": {},
   "outputs": [
    {
     "name": "stdout",
     "output_type": "stream",
     "text": [
      "Ortho computed in 29.1436 seconds\n",
      "Driver GTiff supports Create() method.\n",
      "Driver GTiff supports CreateCopy() method.\n",
      "Ortho computed\n"
     ]
    },
    {
     "data": {
      "text/plain": [
       "0"
      ]
     },
     "execution_count": 4,
     "metadata": {},
     "output_type": "execute_result"
    }
   ],
   "source": [
    "dem_file = 'FinseDemoData/time_lapse_finse_DSM_mid.tif'\n",
    "viewshed_file = 'FinseDemoData/viewshed_mid.tif'\n",
    "output_file = 'FinseDemoData/finse_1.tif'\n",
    "\n",
    "finse_proj = pi.ProjIm2dem(dem_file=dem_file,\n",
    "                          viewshed_file=viewshed_file,\n",
    "                          image_file=image_file,\n",
    "                          cam_param=finse.new_cam.proj_param,\n",
    "                           output_file=output_file\n",
    "                          )\n",
    "finse_proj.ProjectImage2DEM(return_raster=True, epsg=32632)"
   ]
  },
  {
   "cell_type": "code",
   "execution_count": 5,
   "metadata": {},
   "outputs": [
    {
     "name": "stdout",
     "output_type": "stream",
     "text": [
      "Ortho computed in 24.0104 seconds\n",
      "Driver GTiff supports Create() method.\n",
      "Driver GTiff supports CreateCopy() method.\n",
      "Ortho computed\n"
     ]
    },
    {
     "data": {
      "text/plain": [
       "0"
      ]
     },
     "execution_count": 5,
     "metadata": {},
     "output_type": "execute_result"
    }
   ],
   "source": [
    "output_file = 'FinseDemoData/finse_2.tif'\n",
    "\n",
    "finse_proj2 = pi.ProjIm2dem(dem_file=dem_file,\n",
    "                          viewshed_file=viewshed_file,\n",
    "                          image_file=image_file,\n",
    "                          cam_param=finse2.new_cam.proj_param,\n",
    "                           output_file=output_file\n",
    "                          )\n",
    "finse_proj2.ProjectImage2DEM(return_raster=True, epsg=32632)"
   ]
  },
  {
   "cell_type": "code",
   "execution_count": 7,
   "metadata": {},
   "outputs": [
    {
     "data": {
      "image/png": "[encoded data removed]",
      "text/plain": [
       "<Figure size 432x288 with 12 Axes>"
      ]
     },
     "metadata": {
      "needs_background": "light"
     },
     "output_type": "display_data"
    }
   ],
   "source": [
    "finse.plot_residuals()"
   ]
  },
  {
   "cell_type": "code",
   "execution_count": 4,
   "metadata": {},
   "outputs": [
    {
     "data": {
      "text/plain": [
       "<matplotlib.image.AxesImage at 0x7f19005b51c0>"
      ]
     },
     "execution_count": 4,
     "metadata": {},
     "output_type": "execute_result"
    },
    {
     "data": {
      "image/png": "[encoded data removed]",
      "text/plain": [
       "<Figure size 432x288 with 1 Axes>"
      ]
     },
     "metadata": {
      "needs_background": "light"
     },
     "output_type": "display_data"
    }
   ],
   "source": [
    "plt.imshow(finse_proj.ortho)"
   ]
  },
  {
   "cell_type": "code",
   "execution_count": 60,
   "metadata": {},
   "outputs": [],
   "source": [
    "# checGCPsGCPs on image\n",
    "plt.figure()\n",
    "plt.imshow(finse_proj.image)\n",
    "plt.scatter(finse.GCPs.x_img+finse_proj.image.shape[1]/2, finse_proj.image.shape[0] - (finse.GCPs.y_img+finse_proj.image.shape[0]/2))\n",
    "for i, row in finse.GCPs.iterrows():\n",
    "    plt.annotate(row['name'], (row.x_img+finse_proj.image.shape[1]/2, finse_proj.image.shape[0] -(row.y_img +finse_proj.image.shape[0]/2) ))"
   ]
  },
  {
   "cell_type": "code",
   "execution_count": 34,
   "metadata": {},
   "outputs": [
    {
     "data": {
      "text/plain": [
       "686"
      ]
     },
     "execution_count": 34,
     "metadata": {},
     "output_type": "execute_result"
    }
   ],
   "source": [
    "finse.GCPs.x_img\n",
    "finse_proj.Ysize"
   ]
  },
  {
   "cell_type": "code",
   "execution_count": 41,
   "metadata": {},
   "outputs": [
    {
     "data": {
      "text/plain": [
       "(1020, 1920, 3)"
      ]
     },
     "execution_count": 41,
     "metadata": {},
     "output_type": "execute_result"
    }
   ],
   "source": [
    "finse_proj.image.shape"
   ]
  },
  {
   "cell_type": "code",
   "execution_count": 5,
   "metadata": {},
   "outputs": [
    {
     "data": {
      "text/html": [
       "<div>\n",
       "<style scoped>\n",
       "    .dataframe tbody tr th:only-of-type {\n",
       "        vertical-align: middle;\n",
       "    }\n",
       "\n",
       "    .dataframe tbody tr th {\n",
       "        vertical-align: top;\n",
       "    }\n",
       "\n",
       "    .dataframe thead th {\n",
       "        text-align: right;\n",
       "    }\n",
       "</style>\n",
       "<table border=\"1\" class=\"dataframe\">\n",
       "  <thead>\n",
       "    <tr style=\"text-align: right;\">\n",
       "      <th></th>\n",
       "      <th>name</th>\n",
       "      <th>x_img</th>\n",
       "      <th>y_img</th>\n",
       "      <th>x_world</th>\n",
       "      <th>y_world</th>\n",
       "      <th>z_world</th>\n",
       "      <th>lstsq_IO</th>\n",
       "      <th>residual_x_lstsq</th>\n",
       "      <th>residual_y_lstsq</th>\n",
       "      <th>residual_x_ini</th>\n",
       "      <th>residual_y_ini</th>\n",
       "    </tr>\n",
       "  </thead>\n",
       "  <tbody>\n",
       "    <tr>\n",
       "      <th>0</th>\n",
       "      <td>P1</td>\n",
       "      <td>848</td>\n",
       "      <td>175</td>\n",
       "      <td>9655.4625</td>\n",
       "      <td>8367.856</td>\n",
       "      <td>1205.08997</td>\n",
       "      <td>1</td>\n",
       "      <td>NaN</td>\n",
       "      <td>NaN</td>\n",
       "      <td>0.000000</td>\n",
       "      <td>0.000000</td>\n",
       "    </tr>\n",
       "    <tr>\n",
       "      <th>1</th>\n",
       "      <td>P2</td>\n",
       "      <td>656</td>\n",
       "      <td>216</td>\n",
       "      <td>9762.5746</td>\n",
       "      <td>8440.416</td>\n",
       "      <td>1210.50000</td>\n",
       "      <td>1</td>\n",
       "      <td>0.0</td>\n",
       "      <td>0.0</td>\n",
       "      <td>-2433.759967</td>\n",
       "      <td>-1052.914862</td>\n",
       "    </tr>\n",
       "    <tr>\n",
       "      <th>2</th>\n",
       "      <td>P3</td>\n",
       "      <td>846</td>\n",
       "      <td>190</td>\n",
       "      <td>9728.5752</td>\n",
       "      <td>8360.669</td>\n",
       "      <td>1206.71997</td>\n",
       "      <td>1</td>\n",
       "      <td>NaN</td>\n",
       "      <td>NaN</td>\n",
       "      <td>0.000000</td>\n",
       "      <td>0.000000</td>\n",
       "    </tr>\n",
       "    <tr>\n",
       "      <th>3</th>\n",
       "      <td>P7</td>\n",
       "      <td>404</td>\n",
       "      <td>182</td>\n",
       "      <td>9328.7125</td>\n",
       "      <td>8469.457</td>\n",
       "      <td>1208.79004</td>\n",
       "      <td>1</td>\n",
       "      <td>NaN</td>\n",
       "      <td>NaN</td>\n",
       "      <td>0.000000</td>\n",
       "      <td>0.000000</td>\n",
       "    </tr>\n",
       "    <tr>\n",
       "      <th>4</th>\n",
       "      <td>P8</td>\n",
       "      <td>131</td>\n",
       "      <td>202</td>\n",
       "      <td>9327.5960</td>\n",
       "      <td>8487.768</td>\n",
       "      <td>1210.94995</td>\n",
       "      <td>1</td>\n",
       "      <td>NaN</td>\n",
       "      <td>NaN</td>\n",
       "      <td>0.000000</td>\n",
       "      <td>0.000000</td>\n",
       "    </tr>\n",
       "    <tr>\n",
       "      <th>5</th>\n",
       "      <td>P9</td>\n",
       "      <td>-131</td>\n",
       "      <td>235</td>\n",
       "      <td>9344.3437</td>\n",
       "      <td>8534.215</td>\n",
       "      <td>1211.02002</td>\n",
       "      <td>1</td>\n",
       "      <td>NaN</td>\n",
       "      <td>NaN</td>\n",
       "      <td>0.000000</td>\n",
       "      <td>0.000000</td>\n",
       "    </tr>\n",
       "    <tr>\n",
       "      <th>6</th>\n",
       "      <td>P12</td>\n",
       "      <td>-697</td>\n",
       "      <td>78</td>\n",
       "      <td>9192.3856</td>\n",
       "      <td>8450.476</td>\n",
       "      <td>1207.92004</td>\n",
       "      <td>1</td>\n",
       "      <td>NaN</td>\n",
       "      <td>NaN</td>\n",
       "      <td>0.000000</td>\n",
       "      <td>0.000000</td>\n",
       "    </tr>\n",
       "    <tr>\n",
       "      <th>7</th>\n",
       "      <td>P13</td>\n",
       "      <td>-580</td>\n",
       "      <td>235</td>\n",
       "      <td>9409.8834</td>\n",
       "      <td>8718.999</td>\n",
       "      <td>1212.62000</td>\n",
       "      <td>1</td>\n",
       "      <td>NaN</td>\n",
       "      <td>NaN</td>\n",
       "      <td>0.000000</td>\n",
       "      <td>0.000000</td>\n",
       "    </tr>\n",
       "    <tr>\n",
       "      <th>8</th>\n",
       "      <td>P14</td>\n",
       "      <td>-186</td>\n",
       "      <td>275</td>\n",
       "      <td>9597.9050</td>\n",
       "      <td>8720.338</td>\n",
       "      <td>1227.31995</td>\n",
       "      <td>1</td>\n",
       "      <td>NaN</td>\n",
       "      <td>NaN</td>\n",
       "      <td>0.000000</td>\n",
       "      <td>0.000000</td>\n",
       "    </tr>\n",
       "    <tr>\n",
       "      <th>9</th>\n",
       "      <td>P16</td>\n",
       "      <td>-616</td>\n",
       "      <td>425</td>\n",
       "      <td>9824.7815</td>\n",
       "      <td>9272.047</td>\n",
       "      <td>1349.29004</td>\n",
       "      <td>1</td>\n",
       "      <td>NaN</td>\n",
       "      <td>NaN</td>\n",
       "      <td>0.000000</td>\n",
       "      <td>0.000000</td>\n",
       "    </tr>\n",
       "    <tr>\n",
       "      <th>10</th>\n",
       "      <td>P17</td>\n",
       "      <td>-891</td>\n",
       "      <td>421</td>\n",
       "      <td>9712.8320</td>\n",
       "      <td>9545.966</td>\n",
       "      <td>1376.18005</td>\n",
       "      <td>1</td>\n",
       "      <td>NaN</td>\n",
       "      <td>NaN</td>\n",
       "      <td>0.000000</td>\n",
       "      <td>0.000000</td>\n",
       "    </tr>\n",
       "    <tr>\n",
       "      <th>11</th>\n",
       "      <td>P20</td>\n",
       "      <td>791</td>\n",
       "      <td>-117</td>\n",
       "      <td>9194.9164</td>\n",
       "      <td>8423.047</td>\n",
       "      <td>1208.67004</td>\n",
       "      <td>1</td>\n",
       "      <td>NaN</td>\n",
       "      <td>NaN</td>\n",
       "      <td>0.000000</td>\n",
       "      <td>0.000000</td>\n",
       "    </tr>\n",
       "    <tr>\n",
       "      <th>12</th>\n",
       "      <td>P21</td>\n",
       "      <td>333</td>\n",
       "      <td>156</td>\n",
       "      <td>9297.8594</td>\n",
       "      <td>8454.756</td>\n",
       "      <td>1207.68005</td>\n",
       "      <td>1</td>\n",
       "      <td>NaN</td>\n",
       "      <td>NaN</td>\n",
       "      <td>0.000000</td>\n",
       "      <td>0.000000</td>\n",
       "    </tr>\n",
       "    <tr>\n",
       "      <th>13</th>\n",
       "      <td>P25</td>\n",
       "      <td>359</td>\n",
       "      <td>390</td>\n",
       "      <td>10306.2986</td>\n",
       "      <td>8697.710</td>\n",
       "      <td>1342.06006</td>\n",
       "      <td>1</td>\n",
       "      <td>NaN</td>\n",
       "      <td>NaN</td>\n",
       "      <td>0.000000</td>\n",
       "      <td>0.000000</td>\n",
       "    </tr>\n",
       "    <tr>\n",
       "      <th>14</th>\n",
       "      <td>P26</td>\n",
       "      <td>368</td>\n",
       "      <td>392</td>\n",
       "      <td>10451.8926</td>\n",
       "      <td>8723.614</td>\n",
       "      <td>1360.28994</td>\n",
       "      <td>1</td>\n",
       "      <td>NaN</td>\n",
       "      <td>NaN</td>\n",
       "      <td>0.000000</td>\n",
       "      <td>0.000000</td>\n",
       "    </tr>\n",
       "    <tr>\n",
       "      <th>15</th>\n",
       "      <td>P28</td>\n",
       "      <td>-167</td>\n",
       "      <td>460</td>\n",
       "      <td>10305.4054</td>\n",
       "      <td>9188.978</td>\n",
       "      <td>1419.29004</td>\n",
       "      <td>1</td>\n",
       "      <td>NaN</td>\n",
       "      <td>NaN</td>\n",
       "      <td>0.000000</td>\n",
       "      <td>0.000000</td>\n",
       "    </tr>\n",
       "    <tr>\n",
       "      <th>16</th>\n",
       "      <td>P100</td>\n",
       "      <td>-546</td>\n",
       "      <td>470</td>\n",
       "      <td>10066.0239</td>\n",
       "      <td>9479.273</td>\n",
       "      <td>1439.59998</td>\n",
       "      <td>1</td>\n",
       "      <td>NaN</td>\n",
       "      <td>NaN</td>\n",
       "      <td>0.000000</td>\n",
       "      <td>0.000000</td>\n",
       "    </tr>\n",
       "  </tbody>\n",
       "</table>\n",
       "</div>"
      ],
      "text/plain": [
       "    name  x_img  y_img     x_world   y_world     z_world  lstsq_IO  \\\n",
       "0     P1    848    175   9655.4625  8367.856  1205.08997         1   \n",
       "1     P2    656    216   9762.5746  8440.416  1210.50000         1   \n",
       "2     P3    846    190   9728.5752  8360.669  1206.71997         1   \n",
       "3     P7    404    182   9328.7125  8469.457  1208.79004         1   \n",
       "4     P8    131    202   9327.5960  8487.768  1210.94995         1   \n",
       "5     P9   -131    235   9344.3437  8534.215  1211.02002         1   \n",
       "6    P12   -697     78   9192.3856  8450.476  1207.92004         1   \n",
       "7    P13   -580    235   9409.8834  8718.999  1212.62000         1   \n",
       "8    P14   -186    275   9597.9050  8720.338  1227.31995         1   \n",
       "9    P16   -616    425   9824.7815  9272.047  1349.29004         1   \n",
       "10   P17   -891    421   9712.8320  9545.966  1376.18005         1   \n",
       "11   P20    791   -117   9194.9164  8423.047  1208.67004         1   \n",
       "12   P21    333    156   9297.8594  8454.756  1207.68005         1   \n",
       "13   P25    359    390  10306.2986  8697.710  1342.06006         1   \n",
       "14   P26    368    392  10451.8926  8723.614  1360.28994         1   \n",
       "15   P28   -167    460  10305.4054  9188.978  1419.29004         1   \n",
       "16  P100   -546    470  10066.0239  9479.273  1439.59998         1   \n",
       "\n",
       "    residual_x_lstsq  residual_y_lstsq  residual_x_ini  residual_y_ini  \n",
       "0                NaN               NaN        0.000000        0.000000  \n",
       "1                0.0               0.0    -2433.759967    -1052.914862  \n",
       "2                NaN               NaN        0.000000        0.000000  \n",
       "3                NaN               NaN        0.000000        0.000000  \n",
       "4                NaN               NaN        0.000000        0.000000  \n",
       "5                NaN               NaN        0.000000        0.000000  \n",
       "6                NaN               NaN        0.000000        0.000000  \n",
       "7                NaN               NaN        0.000000        0.000000  \n",
       "8                NaN               NaN        0.000000        0.000000  \n",
       "9                NaN               NaN        0.000000        0.000000  \n",
       "10               NaN               NaN        0.000000        0.000000  \n",
       "11               NaN               NaN        0.000000        0.000000  \n",
       "12               NaN               NaN        0.000000        0.000000  \n",
       "13               NaN               NaN        0.000000        0.000000  \n",
       "14               NaN               NaN        0.000000        0.000000  \n",
       "15               NaN               NaN        0.000000        0.000000  \n",
       "16               NaN               NaN        0.000000        0.000000  "
      ]
     },
     "execution_count": 5,
     "metadata": {},
     "output_type": "execute_result"
    }
   ],
   "source": [
    "finse.GCPs.loc[finse.GCPs.lstsq_IO.astype(bool)]"
   ]
  },
  {
   "cell_type": "code",
   "execution_count": 2,
   "metadata": {},
   "outputs": [
    {
     "data": {
      "text/plain": [
       "<matplotlib.colorbar.Colorbar at 0x7f282ff6d9a0>"
      ]
     },
     "execution_count": 2,
     "metadata": {},
     "output_type": "execute_result"
    },
    {
     "data": {
      "image/png": "[encoded data removed]",
      "text/plain": [
       "<Figure size 432x288 with 12 Axes>"
      ]
     },
     "metadata": {
      "needs_background": "light"
     },
     "output_type": "display_data"
    }
   ],
   "source": [
    "from matplotlib import pyplot as plt\n",
    "fig, ax = plt.subplots(3,2,sharex=True, sharey=True)\n",
    "sc1 = ax[0,0].scatter(finse.GCPs.x_img, finse.GCPs.y_img, \n",
    "                      c=finse.GCPs.residual_x_ini,\n",
    "                      cmap=plt.cm.RdBu,\n",
    "                      vmin= -finse.GCPs[['residual_x_ini', 'residual_y_ini']].abs().max().max(),\n",
    "                      vmax= finse.GCPs[['residual_x_ini', 'residual_y_ini']].abs().max().max())\n",
    "ax[0,0].set_title('Initial Residuals in X')\n",
    "plt.colorbar(sc1, ax=ax[0,0])\n",
    "sc2 = ax[0,1].scatter(finse.GCPs.x_img, finse.GCPs.y_img,\n",
    "                      c=finse.GCPs.residual_y_ini,\n",
    "                      cmap=plt.cm.RdBu,\n",
    "                      vmin= -finse.GCPs[['residual_x_ini', 'residual_y_ini']].abs().max().max(),\n",
    "                      vmax= finse.GCPs[['residual_x_ini', 'residual_y_ini']].abs().max().max())\n",
    "ax[0,1].set_title('Initial Residuals in Y')\n",
    "plt.colorbar(sc2, ax=ax[0,1])\n",
    "sc3 = ax[1,0].scatter(finse.GCPs.x_img, finse.GCPs.y_img,\n",
    "                      c=finse.GCPs.residual_x_lstsq,\n",
    "                      cmap=plt.cm.RdBu,\n",
    "                      vmin= -finse.GCPs[['residual_x_lstsq', 'residual_y_lstsq']].abs().max().max(),\n",
    "                      vmax= finse.GCPs[['residual_x_lstsq', 'residual_y_lstsq']].abs().max().max())\n",
    "ax[1,0].set_title('LstSq Residuals in X')\n",
    "plt.colorbar(sc3, ax=ax[1,0])\n",
    "sc4 = ax[1,1].scatter(finse.GCPs.x_img, finse.GCPs.y_img,\n",
    "                      c=finse.GCPs.residual_y_lstsq,\n",
    "                      cmap=plt.cm.RdBu,\n",
    "                      vmin= -finse.GCPs[['residual_x_lstsq', 'residual_y_lstsq']].abs().max().max(),\n",
    "                      vmax= finse.GCPs[['residual_x_lstsq', 'residual_y_lstsq']].abs().max().max())\n",
    "ax[1,1].set_title('LstSq Residuals in Y')\n",
    "plt.colorbar(sc4, ax=ax[1,1])\n",
    "\n",
    "sc5 = ax[2,0].scatter(finse.GCPs.x_img, \n",
    "                      finse.GCPs.y_img, \n",
    "                      c=finse.GCPs.residual_x_ini - finse.GCPs.residual_x_lstsq)\n",
    "ax[2,0].set_title('Diff in X')\n",
    "plt.colorbar(sc5, ax=ax[2,0])\n",
    "sc6 = ax[2,1].scatter(finse.GCPs.x_img, \n",
    "                      finse.GCPs.y_img, \n",
    "                      c=finse.GCPs.residual_y_ini - finse.GCPs.residual_y_lstsq)\n",
    "ax[2,1].set_title('Diff in Y')\n",
    "plt.colorbar(sc6, ax=ax[2,1])"
   ]
  },
  {
   "cell_type": "code",
   "execution_count": 2,
   "metadata": {},
   "outputs": [
    {
     "data": {
      "text/plain": [
       "Index(['name', 'x_img', 'y_img', 'x_world', 'y_world', 'z_world',\n",
       "       'residual_x_ini', 'residual_y_ini', 'residual_x_lstsq',\n",
       "       'residual_y_lstsq'],\n",
       "      dtype='object')"
      ]
     },
     "execution_count": 2,
     "metadata": {},
     "output_type": "execute_result"
    }
   ],
   "source": [
    "finse.GCPs.columns"
   ]
  },
  {
   "cell_type": "code",
   "execution_count": 12,
   "metadata": {},
   "outputs": [],
   "source": []
  },
  {
   "cell_type": "code",
   "execution_count": null,
   "metadata": {},
   "outputs": [],
   "source": []
  }
 ],
 "metadata": {
  "kernelspec": {
   "display_name": "dataAna",
   "language": "python",
   "name": "dataana"
  },
  "language_info": {
   "codemirror_mode": {
    "name": "ipython",
    "version": 3
   },
   "file_extension": ".py",
   "mimetype": "text/x-python",
   "name": "python",
   "nbconvert_exporter": "python",
   "pygments_lexer": "ipython3",
   "version": "3.8.2"
  }
 },
 "nbformat": 4,
 "nbformat_minor": 4
}
