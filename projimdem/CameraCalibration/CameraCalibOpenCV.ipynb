{
 "cells": [
  {
   "cell_type": "markdown",
   "id": "10ca6194-f9d6-4762-b208-dd83551a1de6",
   "metadata": {},
   "source": [
    "# Camera Calibration wit OpenCV\n",
    "https://docs.opencv.org/4.5.3/dc/dbb/tutorial_py_calibration.html"
   ]
  },
  {
   "cell_type": "code",
   "execution_count": 1,
   "id": "8b75bd03-000c-4a1f-9602-f63eb4372ff3",
   "metadata": {},
   "outputs": [
    {
     "name": "stdout",
     "output_type": "stream",
     "text": [
      "./data/finse_webcam/129.240.244.154_01_20220330140418935_TIMING.jpg\n",
      "./data/finse_webcam/129.240.244.154_01_20220330140423935_TIMING.jpg\n",
      "./data/finse_webcam/129.240.244.154_01_20220330140428935_TIMING.jpg\n",
      "./data/finse_webcam/129.240.244.154_01_20220330140433953_TIMING.jpg\n",
      "./data/finse_webcam/129.240.244.154_01_20220330140439010_TIMING.jpg\n",
      "./data/finse_webcam/129.240.244.154_01_20220330140444003_TIMING.jpg\n",
      "./data/finse_webcam/129.240.244.154_01_20220330140449002_TIMING.jpg\n",
      "./data/finse_webcam/129.240.244.154_01_20220330140454002_TIMING.jpg\n",
      "./data/finse_webcam/129.240.244.154_01_20220330140514024_TIMING.jpg\n",
      "./data/finse_webcam/129.240.244.154_01_20220330140519055_TIMING.jpg\n",
      "./data/finse_webcam/129.240.244.154_01_20220330140524056_TIMING.jpg\n",
      "./data/finse_webcam/129.240.244.154_01_20220330140529055_TIMING.jpg\n",
      "./data/finse_webcam/129.240.244.154_01_20220330140534063_TIMING.jpg\n",
      "./data/finse_webcam/129.240.244.154_01_20220330140539095_TIMING.jpg\n",
      "./data/finse_webcam/129.240.244.154_01_20220330140544103_TIMING.jpg\n",
      "./data/finse_webcam/129.240.244.154_01_20220330140549113_TIMING.jpg\n",
      "./data/finse_webcam/129.240.244.154_01_20220330140554115_TIMING.jpg\n",
      "./data/finse_webcam/129.240.244.154_01_20220330140559135_TIMING.jpg\n",
      "./data/finse_webcam/129.240.244.154_01_20220330140604136_TIMING.jpg\n",
      "./data/finse_webcam/129.240.244.154_01_20220330140609151_TIMING.jpg\n",
      "./data/finse_webcam/129.240.244.154_01_20220330140614143_TIMING.jpg\n",
      "./data/finse_webcam/129.240.244.154_01_20220330140619175_TIMING.jpg\n",
      "./data/finse_webcam/129.240.244.154_01_20220330140624175_TIMING.jpg\n",
      "./data/finse_webcam/129.240.244.154_01_20220330140629175_TIMING.jpg\n",
      "./data/finse_webcam/129.240.244.154_01_20220330140634183_TIMING.jpg\n",
      "./data/finse_webcam/129.240.244.154_01_20220330140639223_TIMING.jpg\n",
      "./data/finse_webcam/129.240.244.154_01_20220330140644226_TIMING.jpg\n",
      "./data/finse_webcam/129.240.244.154_01_20220330140649216_TIMING.jpg\n",
      "./data/finse_webcam/129.240.244.154_01_20220330140654220_TIMING.jpg\n",
      "./data/finse_webcam/129.240.244.154_01_20220330140659255_TIMING.jpg\n",
      "./data/finse_webcam/129.240.244.154_01_20220330140704263_TIMING.jpg\n",
      "./data/finse_webcam/129.240.244.154_01_20220330140709263_TIMING.jpg\n",
      "./data/finse_webcam/129.240.244.154_01_20220330140714335_TIMING.jpg\n",
      "./data/finse_webcam/129.240.244.154_01_20220330140729354_TIMING.jpg\n",
      "./data/finse_webcam/129.240.244.154_01_20220330140734363_TIMING.jpg\n",
      "./data/finse_webcam/129.240.244.154_01_20220330140739364_TIMING.jpg\n",
      "./data/finse_webcam/129.240.244.154_01_20220330140744364_TIMING.jpg\n",
      "./data/finse_webcam/129.240.244.154_01_20220330140749423_TIMING.jpg\n",
      "./data/finse_webcam/129.240.244.154_01_20220330140754395_TIMING.jpg\n",
      "./data/finse_webcam/129.240.244.154_01_20220330140759423_TIMING.jpg\n",
      "./data/finse_webcam/129.240.244.154_01_20220330140804415_TIMING.jpg\n",
      "./data/finse_webcam/129.240.244.154_01_20220330140809435_TIMING.jpg\n",
      "./data/finse_webcam/129.240.244.154_01_20220330140814424_TIMING.jpg\n",
      "./data/finse_webcam/129.240.244.154_01_20220330140819455_TIMING.jpg\n",
      "./data/finse_webcam/129.240.244.154_01_20220330140824463_TIMING.jpg\n",
      "./data/finse_webcam/129.240.244.154_01_20220330140829475_TIMING.jpg\n",
      "./data/finse_webcam/129.240.244.154_01_20220330140834463_TIMING.jpg\n",
      "./data/finse_webcam/129.240.244.154_01_20220330140839495_TIMING.jpg\n",
      "./data/finse_webcam/129.240.244.154_01_20220330140844495_TIMING.jpg\n"
     ]
    }
   ],
   "source": [
    "import numpy as np\n",
    "import cv2 as cv\n",
    "import glob\n",
    "# termination criteria\n",
    "\n",
    "# Inner chessboard size (in number of squares)\n",
    "cbSize = [7,9]\n",
    "pix_mm = 217/10\n",
    "\n",
    "criteria = (cv.TERM_CRITERIA_EPS + cv.TERM_CRITERIA_MAX_ITER, 30, 0.001)\n",
    "# prepare object points, like (0,0,0), (1,0,0), (2,0,0) ....,(6,5,0)\n",
    "objp = np.zeros((cbSize[0]*cbSize[1],3), np.float32)\n",
    "objp[:,:2] = np.mgrid[0:cbSize[1],0:cbSize[0]].T.reshape(-1,2)*pix_mm\n",
    "\n",
    "# Arrays to store object points and image points from all the images.\n",
    "objpoints = [] # 3d point in real world space\n",
    "imgpoints = [] # 2d points in image plane.\n",
    "images = glob.glob(\"./data/finse_webcam/*.jpg\")\n",
    "images.sort()\n",
    "\n",
    "for fname in images:\n",
    "    print(fname)\n",
    "    img = cv.imread(fname)\n",
    "    gray = cv.cvtColor(img, cv.COLOR_BGR2GRAY)\n",
    "    # Find the chess board corners\n",
    "    ret, corners = cv.findChessboardCorners(gray, (cbSize[1],cbSize[0]), None)\n",
    "    # If found, add object points, image points (after refining them)\n",
    "    if ret == True:\n",
    "        objpoints.append(objp)\n",
    "        corners2 = cv.cornerSubPix(gray,corners, (11,11), (-1,-1), criteria)\n",
    "        imgpoints.append(corners)\n",
    "        # Draw and display the corners\n",
    "        cv.drawChessboardCorners(img, (cbSize[1],cbSize[0]), corners2, ret)\n",
    "        cv.imshow('img', img)\n",
    "        cv.waitKey(500)\n",
    "cv.destroyAllWindows()"
   ]
  },
  {
   "cell_type": "code",
   "execution_count": null,
   "id": "c5d3ee50-b4be-444b-a6f2-b41f5a13e8e8",
   "metadata": {},
   "outputs": [],
   "source": []
  },
  {
   "cell_type": "code",
   "execution_count": 2,
   "id": "e026c6a7-74b4-4990-ab1f-ccf73b5d12a4",
   "metadata": {},
   "outputs": [],
   "source": [
    "ret, mtx, dist, rvecs, tvecs = cv.calibrateCamera(objpoints, imgpoints, gray.shape[::-1], None, None)"
   ]
  },
  {
   "cell_type": "code",
   "execution_count": 3,
   "id": "7c782430-cb9f-41aa-a39e-1154fb12c445",
   "metadata": {},
   "outputs": [
    {
     "data": {
      "text/plain": [
       "array([[1.46143486e+03, 0.00000000e+00, 9.89097728e+02],\n",
       "       [0.00000000e+00, 1.45901969e+03, 5.17957369e+02],\n",
       "       [0.00000000e+00, 0.00000000e+00, 1.00000000e+00]])"
      ]
     },
     "execution_count": 3,
     "metadata": {},
     "output_type": "execute_result"
    }
   ],
   "source": [
    "mtx"
   ]
  },
  {
   "cell_type": "code",
   "execution_count": 4,
   "id": "bd218496-a057-46fc-bd0d-5bd8c3320ef0",
   "metadata": {},
   "outputs": [],
   "source": [
    "img = cv.imread(images[0])\n",
    "h,  w = img.shape[:2]\n",
    "newcameramtx, roi = cv.getOptimalNewCameraMatrix(mtx, dist, (w,h), 1, (w,h))"
   ]
  },
  {
   "cell_type": "code",
   "execution_count": 5,
   "id": "0eb24304-5dca-4454-818e-282b86bde243",
   "metadata": {},
   "outputs": [
    {
     "data": {
      "text/plain": [
       "True"
      ]
     },
     "execution_count": 5,
     "metadata": {},
     "output_type": "execute_result"
    }
   ],
   "source": [
    "# undistort\n",
    "dst = cv.undistort(img, mtx, dist, None, newcameramtx)\n",
    "# crop the image\n",
    "x, y, w, h = roi\n",
    "dst = dst[y:y+h, x:x+w]\n",
    "cv.imwrite('calibresult_webcam.png', dst)"
   ]
  },
  {
   "cell_type": "code",
   "execution_count": 6,
   "id": "64052070-102b-4f0a-bde6-062eb7a3219b",
   "metadata": {},
   "outputs": [
    {
     "name": "stdout",
     "output_type": "stream",
     "text": [
      "total error: 0.18021223269168568\n"
     ]
    }
   ],
   "source": [
    "mean_error = 0\n",
    "for i in range(len(objpoints)):\n",
    "    imgpoints2, _ = cv.projectPoints(objpoints[i], rvecs[i], tvecs[i], mtx, dist)\n",
    "    error = cv.norm(imgpoints[i], imgpoints2, cv.NORM_L2)/len(imgpoints2)\n",
    "    mean_error += error\n",
    "print( \"total error: {}\".format(mean_error/len(objpoints)) )"
   ]
  },
  {
   "cell_type": "code",
   "execution_count": 7,
   "id": "805b9f6c-cd60-4f27-ade8-81efc31d2432",
   "metadata": {},
   "outputs": [
    {
     "data": {
      "text/plain": [
       "{'k1': -0.4200893485833154,\n",
       " 'k2': 0.31414876662568736,\n",
       " 'p1': 0.007246482749990121,\n",
       " 'p2': 0.0008494067035016822,\n",
       " 'k3': -0.16517855431212075}"
      ]
     },
     "execution_count": 7,
     "metadata": {},
     "output_type": "execute_result"
    }
   ],
   "source": [
    "dict(zip(['k1','k2','p1','p2','k3'],dist[0]))"
   ]
  },
  {
   "cell_type": "code",
   "execution_count": 8,
   "id": "41033136-0673-4b40-98bc-2cc4a53e7107",
   "metadata": {},
   "outputs": [
    {
     "data": {
      "text/plain": [
       "array([[-0.42008935,  0.31414877,  0.00724648,  0.00084941, -0.16517855]])"
      ]
     },
     "execution_count": 8,
     "metadata": {},
     "output_type": "execute_result"
    }
   ],
   "source": [
    "dist"
   ]
  },
  {
   "cell_type": "code",
   "execution_count": null,
   "id": "06e155ff-4b56-4fa2-8614-59e36bf1cec4",
   "metadata": {},
   "outputs": [],
   "source": []
  }
 ],
 "metadata": {
  "kernelspec": {
   "display_name": "dataAna",
   "language": "python",
   "name": "dataana"
  },
  "language_info": {
   "codemirror_mode": {
    "name": "ipython",
    "version": 3
   },
   "file_extension": ".py",
   "mimetype": "text/x-python",
   "name": "python",
   "nbconvert_exporter": "python",
   "pygments_lexer": "ipython3",
   "version": "3.8.2"
  }
 },
 "nbformat": 4,
 "nbformat_minor": 5
}
